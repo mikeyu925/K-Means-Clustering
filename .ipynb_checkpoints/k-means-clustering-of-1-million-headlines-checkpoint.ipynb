{
 "cells": [
  {
   "cell_type": "markdown",
   "metadata": {
    "_cell_guid": "8b9d6583-6ae1-4bb6-970c-c80d42dfebdb",
    "_uuid": "d56b7961b91d7f67554ec48bd1d2485fb7419120"
   },
   "source": [
    "# 1 数据集信息\n",
    "澳大利亚广播公司 ABC 发布的新闻头条数据"
   ]
  },
  {
   "cell_type": "code",
   "execution_count": 2,
   "metadata": {
    "_cell_guid": "b1076dfc-b9ad-4769-8c92-a6c4dae69d19",
    "_uuid": "8f2839f25d086af736a60e9eeb907d3b93b6e0e5"
   },
   "outputs": [],
   "source": [
    "import numpy as np \n",
    "import pandas as pd \n",
    "import matplotlib.pyplot as plt\n",
    "import seaborn as sns\n",
    "from sklearn.feature_extraction import text\n",
    "from sklearn.feature_extraction.text import TfidfVectorizer\n",
    "from sklearn.cluster import KMeans\n",
    "from nltk.tokenize import RegexpTokenizer\n",
    "from nltk.stem.snowball import SnowballStemmer\n",
    "%matplotlib inline"
   ]
  },
  {
   "cell_type": "code",
   "execution_count": 3,
   "metadata": {
    "_cell_guid": "79c7e3d0-c299-4dcb-8224-4455121ee9b0",
    "_uuid": "d629ff2d2480ee46fbb7e2d37f6b5fab8052498a",
    "scrolled": true
   },
   "outputs": [],
   "source": [
    "# 读取数据集\n",
    "data = pd.read_csv(\"C:/Users/86135/AI/Lesson2/output_2021-08-26-14_37_47/abcnews-date-text(1).csv\",error_bad_lines=False,usecols =[\"headline_text\"])\n",
    "data.head()\n",
    "data = data.head(10000)  # 获取部分数据快速运行，你可以尝试修改使用的数据量查看后续的建模效果，不过注意使用的数据越多后续模型训练的时间越长\n",
    "#print(data)"
   ]
  },
  {
   "cell_type": "code",
   "execution_count": 4,
   "metadata": {
    "_cell_guid": "3e44d856-a323-45ac-b7cc-80d77385060f",
    "_uuid": "a498ee778ab763e0801b8f9cf14e1d4d01f38846"
   },
   "outputs": [
    {
     "name": "stdout",
     "output_type": "stream",
     "text": [
      "<class 'pandas.core.frame.DataFrame'>\n",
      "RangeIndex: 10000 entries, 0 to 9999\n",
      "Data columns (total 1 columns):\n",
      " #   Column         Non-Null Count  Dtype \n",
      "---  ------         --------------  ----- \n",
      " 0   headline_text  10000 non-null  object\n",
      "dtypes: object(1)\n",
      "memory usage: 78.2+ KB\n"
     ]
    }
   ],
   "source": [
    "# 打印数据信息\n",
    "data.info()"
   ]
  },
  {
   "cell_type": "markdown",
   "metadata": {
    "_cell_guid": "ff887c6d-0470-4f62-860b-9457b223bb8c",
    "_uuid": "eb590852f097f66ea53be9a970789430fc3f6a63"
   },
   "source": [
    "## 1.1 删除重复数据"
   ]
  },
  {
   "cell_type": "code",
   "execution_count": 5,
   "metadata": {
    "_cell_guid": "42392880-315c-41bf-98e8-a1cbfab72f6e",
    "_uuid": "1e0143660cbb59acf14ed07c847fd9bc3ca85045",
    "tags": []
   },
   "outputs": [
    {
     "data": {
      "text/html": [
       "<div>\n",
       "<style scoped>\n",
       "    .dataframe tbody tr th:only-of-type {\n",
       "        vertical-align: middle;\n",
       "    }\n",
       "\n",
       "    .dataframe tbody tr th {\n",
       "        vertical-align: top;\n",
       "    }\n",
       "\n",
       "    .dataframe thead th {\n",
       "        text-align: right;\n",
       "    }\n",
       "</style>\n",
       "<table border=\"1\" class=\"dataframe\">\n",
       "  <thead>\n",
       "    <tr style=\"text-align: right;\">\n",
       "      <th></th>\n",
       "      <th>headline_text</th>\n",
       "    </tr>\n",
       "  </thead>\n",
       "  <tbody>\n",
       "    <tr>\n",
       "      <th>9253</th>\n",
       "      <td>5 australian sars cases being monitored</td>\n",
       "    </tr>\n",
       "    <tr>\n",
       "      <th>9458</th>\n",
       "      <td>5 australian sars cases being monitored</td>\n",
       "    </tr>\n",
       "    <tr>\n",
       "      <th>6402</th>\n",
       "      <td>all walks of life follow protest path</td>\n",
       "    </tr>\n",
       "    <tr>\n",
       "      <th>6192</th>\n",
       "      <td>all walks of life follow protest path</td>\n",
       "    </tr>\n",
       "    <tr>\n",
       "      <th>6197</th>\n",
       "      <td>asio briefs crean on terrorist risk</td>\n",
       "    </tr>\n",
       "    <tr>\n",
       "      <th>6409</th>\n",
       "      <td>asio briefs crean on terrorist risk</td>\n",
       "    </tr>\n",
       "    <tr>\n",
       "      <th>6609</th>\n",
       "      <td>australia celebrates world cup victory</td>\n",
       "    </tr>\n",
       "    <tr>\n",
       "      <th>6813</th>\n",
       "      <td>australia celebrates world cup victory</td>\n",
       "    </tr>\n",
       "  </tbody>\n",
       "</table>\n",
       "</div>"
      ],
      "text/plain": [
       "                                headline_text\n",
       "9253  5 australian sars cases being monitored\n",
       "9458  5 australian sars cases being monitored\n",
       "6402    all walks of life follow protest path\n",
       "6192    all walks of life follow protest path\n",
       "6197      asio briefs crean on terrorist risk\n",
       "6409      asio briefs crean on terrorist risk\n",
       "6609   australia celebrates world cup victory\n",
       "6813   australia celebrates world cup victory"
      ]
     },
     "execution_count": 5,
     "metadata": {},
     "output_type": "execute_result"
    }
   ],
   "source": [
    "# 查看重复的数据行，pandas.DataFrame.duplicated 使用方法详见：https://pandas.pydata.org/pandas-docs/stable/reference/api/pandas.DataFrame.duplicated.html\n",
    "data[data['headline_text'].duplicated(keep=False)].sort_values('headline_text').head(8)"
   ]
  },
  {
   "cell_type": "code",
   "execution_count": 6,
   "metadata": {
    "_cell_guid": "9f5ff611-397e-45b7-9616-7bc33f6e81bb",
    "_uuid": "4e5e82d7c6fb0e7b14f8b5772bea14e448f88fcc"
   },
   "outputs": [],
   "source": [
    "# 删除重复行，pandas.DataFrame.drop_duplicates 使用方法详见：https://pandas.pydata.org/pandas-docs/stable/reference/api/pandas.DataFrame.drop_duplicates.html\n",
    "data = data.drop_duplicates('headline_text')"
   ]
  },
  {
   "cell_type": "markdown",
   "metadata": {
    "_cell_guid": "f1bb8d35-27aa-4ff4-9a39-4329517aa6a4",
    "_uuid": "f022fdf6441499ed52b34c063240f4f28b2ff3a5"
   },
   "source": [
    "# 2 数据预处理 "
   ]
  },
  {
   "cell_type": "markdown",
   "metadata": {
    "_cell_guid": "7ecba7c7-84d0-426b-aa9c-9ca05d45da75",
    "_uuid": "d2f1e1b88fb7b29fd47c249be3af044ef1e2a246"
   },
   "source": [
    "## 2.1 为向量化表示进行前处理\n",
    "进行自然语言处理时，必须将单词转换为机器学习算法可以利用的向量。如果目标是对文本数据进行机器学习建模，例如电影评论或推文或其他任何内容，则需要将文本数据转换为数字。此过程称为“嵌入”或“向量化”。  \n",
    "进行向量化时，请务必记住，它不仅仅是将单个单词变成单个数字。单词可以转换为数字，整个文档就可以转换为向量。向量的维度往往不止一个，而且对于文本数据，向量通常是高维的。这是因为特征数据的每个维度将对应一个单词，而我们所处理的文档通常包含数千个单词。\n",
    "\n",
    "## 2.2 TF-IDF\n",
    "在信息检索中，tf–idf 或 TFIDF（term frequency–inverse document frequency）是一种数值统计，旨在反映单词对语料库中文档的重要性。在信息检索，文本挖掘和用户建模的搜索中，它通常用作加权因子。 tf-idf 值与单词在文档中出现的次数成正比，同时被单词在语料库中的出现频率所抵消，这有助于调整某些单词通常会更频繁出现的事实。 如今，tf-idf是最流行的术语加权方案之一。在数字图书馆领域，有83％的基于文本的推荐系统使用tf-idf。\n",
    "\n",
    "搜索引擎经常使用tf–idf加权方案的变体作为在给定用户查询时对文档相关性进行评分和排名的主要工具。tf–idf可成功用于各种领域的停用词过滤，包括文本摘要和分类。\n",
    "\n",
    "排名函数中最简单的是通过将每个查询词的tf–idf相加得出，许多更复杂的排名函数是此简单模型的变体。\n",
    "\n",
    "当有TF(词频)和IDF(逆文档频率)后，将这两个词相乘，就能得到一个词的TF-IDF的值。某个词在文章中的TF-IDF越大，那么一般而言这个词在这篇文章的重要性会越高，所以通过计算文章中各个词的TF-IDF，由大到小排序，排在最前面的几个词，就是该文章的关键词\n",
    "\n",
    "**tf-idf算法步骤：**\n",
    "- 计算词频:  \n",
    "    某个词在文章中出现的次数 = p，文章总词数 = n  \n",
    "    标准化词频(tf) = $ p / n $\n",
    "- 计算逆文档频率  \n",
    "    此时需要一个语料库来模拟语言的使用环境\n",
    "    逆文档频率(idf) = $\\log (语料库文档总数/{包含该词的文档树+1})$\n",
    "    > 可见一个词越常见，分母就越大，逆文档频率就越小越接近于0，分母+1是为了防止所有文档都不包含该词(防止分母为0）\n",
    "- 计算tf-idf  \n",
    "    tf-idf = $词频(tf) * 逆文档频率(idf) $\n",
    "    \n",
    "**优缺点：**\n",
    "TF-IDF的优点是简单快速，而且容易理解。缺点是有时候用词频来衡量文章中的一个词的重要性不够全面，有时候重要的词出现的可能不够多，而且这种计算无法体现位置信息，无法体现词在上下文的重要性。如果要体现词的上下文结构，那么你可能需要使用word2vec算法来支持。"
   ]
  },
  {
   "cell_type": "code",
   "execution_count": 24,
   "metadata": {
    "_cell_guid": "c7e595ab-440c-4ad7-98e4-4358cc724d8c",
    "_uuid": "9c1c23ecabae8217a9aa8f90371f2a30053cc6f1"
   },
   "outputs": [
    {
     "name": "stdout",
     "output_type": "stream",
     "text": [
      "  (0, 5110)\t0.43981539702983696\n",
      "  (0, 1310)\t0.5065106433448784\n",
      "  (0, 1975)\t0.33006828555314244\n",
      "  (0, 2456)\t0.46960851333097303\n",
      "  (0, 196)\t0.46960851333097303\n",
      "  (1, 2476)\t0.536798704037279\n",
      "  (1, 801)\t0.5686921892748534\n",
      "  (1, 9681)\t0.49352194120053033\n",
      "  (1, 267)\t0.38062112231894385\n",
      "  (2, 8533)\t0.4745570580504975\n",
      "  (2, 6786)\t0.545425651133694\n",
      "  (2, 4525)\t0.5647311500231394\n",
      "  (2, 1459)\t0.3979763635360587\n",
      "  (3, 7404)\t0.3783359955921573\n",
      "  (3, 6309)\t0.37452108275719\n",
      "  (3, 8441)\t0.37966438032606903\n",
      "  (3, 764)\t0.3386920117463348\n",
      "  (3, 8292)\t0.41549345133692417\n",
      "  (3, 5970)\t0.3883302044801927\n",
      "  (3, 390)\t0.36647422376617234\n",
      "  (4, 9045)\t0.49868000492563264\n",
      "  (4, 768)\t0.35752659213658694\n",
      "  (4, 334)\t0.45847637525536333\n",
      "  (4, 8441)\t0.3725409751676253\n",
      "  (4, 5970)\t0.38104420788657495\n",
      "  :\t:\n",
      "  (9962, 9525)\t0.3242120823197961\n",
      "  (9962, 6460)\t0.31842499952604175\n",
      "  (9963, 5366)\t0.5143846975286045\n",
      "  (9963, 9369)\t0.33896505050545095\n",
      "  (9963, 3928)\t0.39497410184886594\n",
      "  (9963, 5130)\t0.42667487401702775\n",
      "  (9963, 3886)\t0.2720889123455047\n",
      "  (9963, 9293)\t0.33896505050545095\n",
      "  (9963, 6460)\t0.3058192383581448\n",
      "  (9964, 2818)\t0.5086813965933922\n",
      "  (9964, 1882)\t0.3637366253403568\n",
      "  (9964, 5823)\t0.4200462116346781\n",
      "  (9964, 5045)\t0.4074951045983038\n",
      "  (9964, 9369)\t0.3513574861712659\n",
      "  (9964, 6058)\t0.3781477765067334\n",
      "  (9965, 8206)\t0.4860082880623132\n",
      "  (9965, 9527)\t0.43199539788096963\n",
      "  (9965, 8595)\t0.4669882773023471\n",
      "  (9965, 9021)\t0.38472419780212963\n",
      "  (9965, 8760)\t0.4594400511841522\n",
      "  (9966, 3737)\t0.526335574489791\n",
      "  (9966, 5728)\t0.4862820969507674\n",
      "  (9966, 8467)\t0.5097118793345733\n",
      "  (9966, 9700)\t0.3626184733861767\n",
      "  (9966, 9525)\t0.3085485829427227\n"
     ]
    }
   ],
   "source": [
    "punc = ['.', ',', '\"', \"'\", '?', '!', ':', ';', '(', ')', '[', ']', '{', '}',\"%\"]\n",
    "stop_words = text.ENGLISH_STOP_WORDS.union(punc)\n",
    "desc = data['headline_text'].values\n",
    "#print(desc)\n",
    "vectorizer = TfidfVectorizer(stop_words = stop_words) #类调用\n",
    "#print(vectorizer)\n",
    "X = vectorizer.fit_transform(desc) #计算个词语出现的次数\n",
    "print(X)"
   ]
  },
  {
   "cell_type": "code",
   "execution_count": 27,
   "metadata": {
    "_cell_guid": "eb56971e-5412-4138-a4cd-0e14844796be",
    "_uuid": "10af64e15e2f08c30da71b847432eedc2aece199"
   },
   "outputs": [
    {
     "name": "stdout",
     "output_type": "stream",
     "text": [
      "9820\n",
      "['10', '100', '1000', '10000', '100000', '100m', '100th', '101st', '1035', '104', '105th', '106m', '108', '10m', '11', '110', '112pc', '114', '11b', '11pc', '12', '120', '1200', '125cc', '12b', '12m', '13', '130', '1300', '14', '14000', '14m', '15', '150', '15000', '155m', '158', '15th', '16', '160', '1600yo', '16m', '17', '170', '175m', '17m', '17pc', '18', '1800', '184m']\n"
     ]
    }
   ],
   "source": [
    "word_features = vectorizer.get_feature_names()#获取词袋中所有文本关键字\n",
    "#print(word_features)\n",
    "print(len(word_features))\n",
    "print(word_features[0:50])"
   ]
  },
  {
   "cell_type": "markdown",
   "metadata": {
    "_cell_guid": "871b1bd6-c411-4ff6-a784-9b376a0db4e6",
    "_uuid": "e480f5b88938660f05c09f75af5f9f58d7110096"
   },
   "source": [
    "## 2.3 Stemming\n",
    "stemming 是将单词还原为词干（即词根形式）的过程。 词根形式不一定是单词本身，而是可以通过连接正确的后缀来生成单词。 例如，“fish”，“fishes”和“fishing”这几个词的词干都是“fish”，这是一个正确的单词。 另一方面，“study”，“studies”和“studying”一词源于“studi”，这不是一个正确的英语单词。\n",
    "\n",
    "## 2.4 Tokenizing\n",
    "Tokenization 将句子分解为单词和标点符号"
   ]
  },
  {
   "cell_type": "code",
   "execution_count": 21,
   "metadata": {
    "_cell_guid": "536a1a88-48a3-43d0-b368-ccf31947e5b1",
    "_uuid": "5d25104db183624b990a1d64e10cc618fd8ee715"
   },
   "outputs": [
    {
     "name": "stdout",
     "output_type": "stream",
     "text": [
      "['aba', 'decides', 'against', 'community', 'broadcasting', 'licence']\n",
      "aba\n",
      "decid\n",
      "against\n",
      "communiti\n",
      "broadcast\n",
      "licenc\n"
     ]
    }
   ],
   "source": [
    "stemmer = SnowballStemmer('english')\n",
    "tokenizer = RegexpTokenizer(r'[a-zA-Z\\']+') #按照自己设定的正则表达式来分解句子\n",
    "wordslist = tokenizer.tokenize(desc[0])\n",
    "'''\n",
    "print(wordslist)\n",
    "for word in wordslist:\n",
    "    print(stemmer.stem(word))\n",
    "'''\n",
    "def tokenize(text):\n",
    "    return [stemmer.stem(word) for word in tokenizer.tokenize(text.lower())]"
   ]
  },
  {
   "cell_type": "markdown",
   "metadata": {
    "_cell_guid": "9877cf33-ebe8-46e4-b26e-c6f673617517",
    "_uuid": "d190c4d6b9cb52ad70a021e3475704538b47f85f"
   },
   "source": [
    "## 2.5  使用停用词、stemming 和自定义的 tokenizing 进行 TFIDF 向量化"
   ]
  },
  {
   "cell_type": "code",
   "execution_count": 25,
   "metadata": {
    "_cell_guid": "18e1d30c-5515-4c0d-89e4-6af99658bee3",
    "_uuid": "5fcc93fa3093f30d181ffa38b4ca46b133316952"
   },
   "outputs": [
    {
     "name": "stdout",
     "output_type": "stream",
     "text": [
      "6909\n",
      "['aa', 'aac', 'ab', 'aba', 'abalon', 'abandon', 'abar', 'abattoir', 'abbott', 'abc', 'abdic', 'abduct', 'abid', 'abigroup', 'abil', 'abl', 'ablaz', 'aboard', 'abolit', 'aborigin', 'abort', 'abov', 'abreast', 'abroad', 'absenc', 'absent', 'abu', 'abund', 'abus', 'abysm', 'ac', 'aca', 'academ', 'academi', 'acapulco', 'acb', 'accc', 'accent', 'accept', 'access', 'accid', 'accident', 'accommod', 'account', 'accredit', 'accus', 'ace', 'aceh', 'achiev', 'acid']\n"
     ]
    }
   ],
   "source": [
    "vectorizer2 = TfidfVectorizer(stop_words = stop_words, tokenizer = tokenize)\n",
    "#print(vectorizer2)\n",
    "X2 = vectorizer2.fit_transform(desc)\n",
    "word_features2 = vectorizer2.get_feature_names()\n",
    "print(len(word_features2))\n",
    "print(word_features2[:50]) "
   ]
  },
  {
   "cell_type": "code",
   "execution_count": 28,
   "metadata": {
    "_cell_guid": "acdc11f4-7b5c-4aee-8c42-1a752bffbc2e",
    "_uuid": "244a3015e5b4f4f84c174586fa875f5cf49cff1d"
   },
   "outputs": [
    {
     "name": "stdout",
     "output_type": "stream",
     "text": [
      "1000\n",
      "['abattoir', 'aborigin', 'abus', 'accc', 'accept', 'access', 'accid', 'accus', 'act', 'action', 'ad', 'address', 'adelaid', 'adf', 'admit', 'advanc', 'affect', 'afl', 'africa', 'age', 'agre', 'agreement', 'ahead', 'aid', 'aim', 'air', 'airlin', 'airport', 'ajax', 'al', 'alert', 'alic', 'aliv', 'alleg', 'allow', 'alp', 'ama', 'ambassador', 'ambul', 'american', 'amid', 'amp', 'announc', 'anoth', 'answer', 'anti', 'apologis', 'appeal', 'appoint', 'approv']\n"
     ]
    }
   ],
   "source": [
    "vectorizer3 = TfidfVectorizer(stop_words = stop_words, tokenizer = tokenize, max_features = 1000)\n",
    "X3 = vectorizer3.fit_transform(desc)\n",
    "words = vectorizer3.get_feature_names()\n",
    "print(len(words))\n",
    "print(words[:50]) "
   ]
  },
  {
   "cell_type": "markdown",
   "metadata": {
    "_cell_guid": "e8a8c1ed-8970-49e0-bae5-0e0d85abea84",
    "_uuid": "b5f2e66c25d17527b78ae1a1fe174f1ac6310286"
   },
   "source": [
    "# 3 K-Means 聚类"
   ]
  },
  {
   "cell_type": "markdown",
   "metadata": {
    "_cell_guid": "c9a1312e-45f7-44e4-9407-13012bdf97ce",
    "_uuid": "39ba3fa0f53454111495da2f7e7719572afec93a"
   },
   "source": [
    "## 3.1 使用手肘法选择聚类簇的数量\n",
    "随着聚类数k的增大,样本划分会更加的精细,每个簇的聚合程度会逐渐提高,那么误差平方和SSE自然会逐渐变小,并且当k小于真实的簇类数时,由于k的增大会大幅增加每个簇的聚合程度,因此SSE的下降幅度会很大,而当k到达真实聚类数时,再增加k所得到的聚合程度回报会迅速变小,所以SSE的下降幅度会骤减,然后随着k值的继续增大而趋于平缓,也就是说SSE和k的关系类似于手肘的形状,而这个肘部对应的k值就是数据的真实聚类数.因此这种方法被称为手肘法."
   ]
  },
  {
   "cell_type": "code",
   "execution_count": 32,
   "metadata": {
    "_cell_guid": "c72b26ab-4bef-44e6-b854-5bca3cd1f217",
    "_uuid": "992bea80b2647c4f4e564bb020ce8eab07db6b78",
    "scrolled": true
   },
   "outputs": [
    {
     "data": {
      "image/png": "[encoded data removed]",
      "text/plain": [
       "<Figure size 432x288 with 1 Axes>"
      ]
     },
     "metadata": {
      "needs_background": "light"
     },
     "output_type": "display_data"
    }
   ],
   "source": [
    "from sklearn.cluster import KMeans\n",
    "wcss = []\n",
    "for i in range(1,11):\n",
    "    kmeans = KMeans(n_clusters=i,init='k-means++',max_iter=300,n_init=10,random_state=0)\n",
    "    kmeans.fit(X3)\n",
    "    wcss.append(kmeans.inertia_)\n",
    "plt.plot(range(1,11),wcss)\n",
    "plt.title('The Elbow Method')\n",
    "plt.xlabel('Number of clusters')\n",
    "plt.ylabel('WCSS')\n",
    "plt.savefig('elbow.png')\n",
    "plt.show()"
   ]
  },
  {
   "cell_type": "markdown",
   "metadata": {
    "_cell_guid": "2dd63611-35d6-4c6e-b076-c10e18a3b10c",
    "_uuid": "d5184cf4e47df719970d89c5ea8e15d4b9eaa1e5"
   },
   "source": [
    "由于可能产生多个肘点，所以有时候不得不通过反复试验来选择合适数量的簇。下面展示不同数量簇的结果，以找出合适数量的簇。"
   ]
  },
  {
   "cell_type": "code",
   "execution_count": 33,
   "metadata": {
    "_cell_guid": "e096b262-a06c-4f0a-9c50-2ef4bda9b926",
    "_uuid": "0ed982322b3a0fecb997e88ef0fb2f681c5a801c"
   },
   "outputs": [
    {
     "name": "stdout",
     "output_type": "stream",
     "text": [
      "['death', 'debat', 'decid', 'decis', 'declar', 'defeat', 'defenc', 'defend', 'delay', 'demand', 'democrat', 'dengu', 'deni', 'dept', 'deputi', 'despit', 'destroy', 'detain', 'develop', 'die', 'differ', 'diplomat', 'disappoint', 'disast', 'discuss', 'dismiss', 'disput', 'divis', 'doctor', 'dog', 'dollar', 'domest', 'dont', 'dope', 'doubl', 'doubt', 'downer', 'draft', 'draw', 'drink', 'drive', 'driver', 'drop', 'drought', 'drug', 'dubai', 'dump', 'dure', 'e', 'earli']\n"
     ]
    }
   ],
   "source": [
    "print(words[250:300])"
   ]
  },
  {
   "cell_type": "code",
   "execution_count": 45,
   "metadata": {},
   "outputs": [],
   "source": [
    "def MyKMeans(clusters,iters,jobs,datas):\n",
    "    kmeans = KMeans(n_clusters = clusters, n_init = iters, n_jobs = jobs)\n",
    "    kmeans.fit(datas)\n",
    "    # argsort 使用方法详见： https://numpy.org/doc/stable/reference/generated/numpy.argsort.html\n",
    "    common_words = kmeans.cluster_centers_.argsort()[:,-1:-26:-1]\n",
    "    ans = []\n",
    "    for num, centroid in enumerate(common_words):\n",
    "        print(str(num) + ' : ' + ', '.join(words[word] for word in centroid))\n",
    "        #ans.append(str(num) + ' : ' + ', '.join(words[word] for word in centroid)) \n",
    "    #return ans"
   ]
  },
  {
   "cell_type": "markdown",
   "metadata": {
    "_cell_guid": "a3c414e5-70b2-4c63-a46a-f9c82e406e4b",
    "_uuid": "6992f369b10d54adf27ecdcf24c6f57deabf466f"
   },
   "source": [
    "## 3.2 Clusters 等于 3"
   ]
  },
  {
   "cell_type": "code",
   "execution_count": 46,
   "metadata": {
    "_cell_guid": "b395dddc-8acb-40a8-825e-a6f3a615809e",
    "_uuid": "e0e187a022ec9032385f715d87cfbb865a11698d"
   },
   "outputs": [
    {
     "name": "stderr",
     "output_type": "stream",
     "text": [
      "E:\\Anaconda\\lib\\site-packages\\sklearn\\cluster\\_kmeans.py:792: FutureWarning: 'n_jobs' was deprecated in version 0.23 and will be removed in 1.0 (renaming of 0.25).\n",
      "  warnings.warn(\"'n_jobs' was deprecated in version 0.23 and will be\"\n"
     ]
    },
    {
     "name": "stdout",
     "output_type": "stream",
     "text": [
      "0 : iraq, plan, govt, new, man, win, say, council, iraqi, claim, charg, warn, report, baghdad, kill, fund, urg, world, water, court, face, nsw, troop, rain, death\n",
      "1 : polic, probe, man, arrest, search, death, investig, murder, charg, drug, stab, wa, cannabi, station, fatal, car, miss, victim, protest, road, suspect, driver, nt, corrupt, new\n",
      "2 : war, protest, anti, iraq, howard, ralli, pm, post, say, plan, student, fear, condemn, iraqi, bush, market, thousand, march, downer, warn, deni, start, end, stage, peac\n"
     ]
    }
   ],
   "source": [
    "MyKMeans(3,20,1,X3)"
   ]
  },
  {
   "cell_type": "markdown",
   "metadata": {
    "_cell_guid": "05f80701-83af-49c1-a7b8-df8c20396bb9",
    "_uuid": "4750051c6cbdc6d262f31a94f5c4776eb020644a"
   },
   "source": [
    "## 3.3 Clusters 等于 5"
   ]
  },
  {
   "cell_type": "code",
   "execution_count": 47,
   "metadata": {
    "_cell_guid": "137b7e2c-970f-4f2f-929e-c7b2bd2a8004",
    "_uuid": "2813cee7e61b966b179b806d29b222c55551ee35"
   },
   "outputs": [
    {
     "name": "stderr",
     "output_type": "stream",
     "text": [
      "E:\\Anaconda\\lib\\site-packages\\sklearn\\cluster\\_kmeans.py:792: FutureWarning: 'n_jobs' was deprecated in version 0.23 and will be removed in 1.0 (renaming of 0.25).\n",
      "  warnings.warn(\"'n_jobs' was deprecated in version 0.23 and will be\"\n"
     ]
    },
    {
     "name": "stdout",
     "output_type": "stream",
     "text": [
      "0 : polic, man, govt, win, new, council, charg, say, claim, warn, court, report, fund, face, death, baghdad, world, kill, urg, nsw, rain, set, crash, water, cup\n",
      "1 : iraqi, diplomat, forc, baghdad, expel, coalit, marin, kill, missil, say, war, civilian, bomb, saddam, claim, surrend, suicid, refuge, troop, attack, border, aid, basra, weapon, tv\n",
      "2 : plan, water, shire, council, park, new, manag, protest, govt, firm, green, begin, group, m, welcom, merger, defend, health, rail, land, farmer, station, burn, concern, union\n",
      "3 : iraq, war, say, missil, troop, howard, deni, post, bush, destroy, blair, pm, report, bomb, british, attack, forc, kill, turkey, aid, warn, tv, resolut, blix, uk\n",
      "4 : war, protest, anti, howard, ralli, pm, student, thousand, march, fear, street, condemn, peac, open, say, arrest, melbourn, market, downer, day, warn, start, nz, polic, hous\n"
     ]
    }
   ],
   "source": [
    "MyKMeans(5,20,1,X3)"
   ]
  },
  {
   "cell_type": "markdown",
   "metadata": {
    "_cell_guid": "e5ab0cdc-1178-486d-a982-3457aa69d234",
    "_uuid": "4faeeea430f9f679a594b2c7f1ef1c857611ade5"
   },
   "source": [
    "## 3.4 Clusters 等于 6"
   ]
  },
  {
   "cell_type": "code",
   "execution_count": 48,
   "metadata": {
    "_cell_guid": "de4d9fbb-2462-4491-899f-b1e28e1a7697",
    "_uuid": "73c1c5bfafe12fd9bd57ab0c3bd07f60630f05a8"
   },
   "outputs": [
    {
     "name": "stderr",
     "output_type": "stream",
     "text": [
      "E:\\Anaconda\\lib\\site-packages\\sklearn\\cluster\\_kmeans.py:792: FutureWarning: 'n_jobs' was deprecated in version 0.23 and will be removed in 1.0 (renaming of 0.25).\n",
      "  warnings.warn(\"'n_jobs' was deprecated in version 0.23 and will be\"\n"
     ]
    },
    {
     "name": "stdout",
     "output_type": "stream",
     "text": [
      "0 : polic, plan, new, govt, council, say, claim, warn, fund, report, baghdad, nsw, world, water, kill, rain, death, set, cup, crash, court, continu, charg, open, hope\n",
      "1 : iraq, war, protest, anti, say, howard, pm, ralli, missil, troop, deni, post, bush, blair, warn, forc, fear, destroy, downer, condemn, turkey, student, plan, bomb, british\n",
      "2 : iraqi, diplomat, forc, baghdad, expel, coalit, marin, kill, missil, say, war, civilian, bomb, saddam, claim, surrend, suicid, refuge, troop, attack, border, basra, weapon, tv, uk\n",
      "3 : win, lead, season, fan, m, goal, india, award, open, hope, tiger, championship, world, gold, return, titl, thriller, cup, coast, stage, streak, best, case, celebr, waratah\n",
      "4 : man, charg, murder, court, face, polic, stab, jail, miss, death, assault, arrest, u, search, accid, hospit, car, attack, die, plane, injur, fatal, sex, convict, child\n",
      "5 : urg, govt, farmer, public, resid, driver, push, council, fast, parti, vic, troop, iraq, elect, war, mp, australian, aid, leav, care, servic, leader, speak, polic, stanc\n"
     ]
    }
   ],
   "source": [
    "MyKMeans(6,20,1,X3)"
   ]
  },
  {
   "cell_type": "markdown",
   "metadata": {
    "_cell_guid": "bff92434-ec9d-4e6b-a4a2-72ec4ea6f3bc",
    "_uuid": "7225da580975f8589615a8fd5232ba3c80780845"
   },
   "source": [
    "## 3.5 Clusters 等于 8"
   ]
  },
  {
   "cell_type": "code",
   "execution_count": 49,
   "metadata": {
    "_cell_guid": "4134a6d2-09aa-4cf5-9821-d95d0482c4ac",
    "_uuid": "cf3c5af56aa05f6679effe85774207fe824255a1"
   },
   "outputs": [
    {
     "name": "stderr",
     "output_type": "stream",
     "text": [
      "E:\\Anaconda\\lib\\site-packages\\sklearn\\cluster\\_kmeans.py:792: FutureWarning: 'n_jobs' was deprecated in version 0.23 and will be removed in 1.0 (renaming of 0.25).\n",
      "  warnings.warn(\"'n_jobs' was deprecated in version 0.23 and will be\"\n"
     ]
    },
    {
     "name": "stdout",
     "output_type": "stream",
     "text": [
      "0 : plan, govt, council, iraqi, say, claim, warn, report, baghdad, world, fund, urg, kill, nsw, cup, water, set, crash, troop, lead, final, meet, death, ban, continu\n",
      "1 : war, protest, anti, howard, ralli, pm, student, plan, iraqi, thousand, fear, say, march, condemn, crean, melbourn, street, market, day, gulf, warn, start, oil, open, stage\n",
      "2 : polic, man, charg, murder, face, court, probe, stab, death, arrest, search, jail, car, drug, miss, fatal, assault, investig, accid, crash, station, cannabi, sex, wa, attack\n",
      "3 : iraq, war, say, missil, troop, deni, post, blair, bush, destroy, howard, pm, report, bomb, british, attack, forc, kill, turkey, aid, warn, tv, blix, uk, kuwait\n",
      "4 : concern, air, aust, strike, rise, toll, worker, pay, death, qld, council, job, baghdad, govt, iraqi, market, teacher, rate, open, cut, saddam, water, group, troop, nz\n",
      "5 : win, lead, season, fan, m, goal, india, award, open, hope, tiger, championship, world, gold, return, titl, thriller, cup, coast, stage, streak, best, case, celebr, waratah\n",
      "6 : new, resolut, plan, hope, appoint, ceo, presid, work, open, look, polic, hit, law, high, rate, compani, govt, wa, hospit, servic, iraq, coach, set, board, tas\n",
      "7 : rain, drought, farmer, water, relief, help, bring, offer, need, qld, boost, fund, restrict, end, toll, break, hope, affect, despit, eas, welcom, impact, nsw, flood, fall\n"
     ]
    }
   ],
   "source": [
    "MyKMeans(8,20,1,X3)"
   ]
  },
  {
   "cell_type": "markdown",
   "metadata": {
    "_cell_guid": "a168498b-1322-4010-b462-596bc0ba186b",
    "_uuid": "4717568e34623b3b88f033670c20f01f7ddd63a6"
   },
   "source": [
    "最后，我们可以根据不同簇数量产生的聚类结果，人工判断哪一个聚类的效果最好"
   ]
  }
 ],
 "metadata": {
  "kernelspec": {
   "display_name": "Python 3",
   "language": "python",
   "name": "python3"
  },
  "language_info": {
   "codemirror_mode": {
    "name": "ipython",
    "version": 3
   },
   "file_extension": ".py",
   "mimetype": "text/x-python",
   "name": "python",
   "nbconvert_exporter": "python",
   "pygments_lexer": "ipython3",
   "version": "3.8.8"
  }
 },
 "nbformat": 4,
 "nbformat_minor": 4
}
